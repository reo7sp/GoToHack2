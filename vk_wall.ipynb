{
 "cells": [
  {
   "cell_type": "code",
   "execution_count": 68,
   "metadata": {
    "collapsed": true
   },
   "outputs": [],
   "source": [
    "import vk_api\n",
    "import json\n",
    "from tqdm import tqdm\n",
    "import pandas as pd"
   ]
  },
  {
   "cell_type": "code",
   "execution_count": 4,
   "metadata": {
    "collapsed": false
   },
   "outputs": [],
   "source": [
    "vk_session = vk_api.VkApi(token='')"
   ]
  },
  {
   "cell_type": "code",
   "execution_count": 5,
   "metadata": {
    "collapsed": true
   },
   "outputs": [],
   "source": [
    "vk = vk_session.get_api()\n",
    "tools = vk_api.VkTools(vk_session)"
   ]
  },
  {
   "cell_type": "code",
   "execution_count": 28,
   "metadata": {
    "collapsed": false,
    "scrolled": false
   },
   "outputs": [],
   "source": [
    "# качаем стену\n",
    "wall = tools.get_all('wall.get', 100, {'owner_id': -108367462, 'extended': 1})\n",
    "wall = wall['items']"
   ]
  },
  {
   "cell_type": "code",
   "execution_count": 36,
   "metadata": {
    "collapsed": false
   },
   "outputs": [
    {
     "data": {
      "text/plain": [
       "{'attachments': [{'photo': {'access_key': 'af96c322dc119596bd',\n",
       "    'album_id': -7,\n",
       "    'date': 1481363739,\n",
       "    'height': 656,\n",
       "    'id': 456239093,\n",
       "    'owner_id': -108367462,\n",
       "    'photo_1280': 'https://pp.vk.me/c604417/v604417028/39b3a/LmSodUAh7ro.jpg',\n",
       "    'photo_130': 'https://pp.vk.me/c604417/v604417028/39b37/ouRD5_2-050.jpg',\n",
       "    'photo_604': 'https://pp.vk.me/c604417/v604417028/39b38/VEqoMdhSbA8.jpg',\n",
       "    'photo_75': 'https://pp.vk.me/c604417/v604417028/39b36/qnSr2Jzy4Wo.jpg',\n",
       "    'photo_807': 'https://pp.vk.me/c604417/v604417028/39b39/oQvzgZ_tahU.jpg',\n",
       "    'post_id': 728,\n",
       "    'text': '#куспеху@talentedme #прокрастинация #цитата\\n\\nЗдесь вы найдете много мотивирующих цитат https://goo.gl/TDC0aU',\n",
       "    'user_id': 100,\n",
       "    'width': 1000},\n",
       "   'type': 'photo'}],\n",
       " 'comments': {'can_post': 1, 'count': 0},\n",
       " 'date': 1481363739,\n",
       " 'from_id': -108367462,\n",
       " 'id': 728,\n",
       " 'likes': {'can_like': 1, 'can_publish': 1, 'count': 1, 'user_likes': 0},\n",
       " 'owner_id': -108367462,\n",
       " 'post_source': {'type': 'api'},\n",
       " 'post_type': 'post',\n",
       " 'reposts': {'count': 0, 'user_reposted': 0},\n",
       " 'text': '#куспеху@talentedme #прокрастинация #цитата\\n\\nЗдесь вы найдете много мотивирующих цитат https://goo.gl/TDC0aU'}"
      ]
     },
     "execution_count": 36,
     "metadata": {},
     "output_type": "execute_result"
    }
   ],
   "source": [
    "wall[1]"
   ]
  },
  {
   "cell_type": "code",
   "execution_count": 58,
   "metadata": {
    "collapsed": false
   },
   "outputs": [
    {
     "name": "stderr",
     "output_type": "stream",
     "text": [
      "100%|██████████| 449/449 [06:18<00:00,  1.18it/s]\n"
     ]
    }
   ],
   "source": [
    "# likes\n",
    "for post in tqdm(wall):\n",
    "    likes = vk.likes.getList(filter='likes', item_id=post['id'], owner_id=post['owner_id'], count=1000, **{'type': 'post'})\n",
    "    likes = likes['items']\n",
    "    post['likes']['users'] = likes \n",
    "    \n",
    "    reposts = vk.likes.getList(filter='copies', item_id=post['id'], owner_id=post['owner_id'], count=1000, **{'type': 'post'})\n",
    "    reposts = reposts['items']\n",
    "    post['reposts']['users'] = reposts"
   ]
  },
  {
   "cell_type": "code",
   "execution_count": 62,
   "metadata": {
    "collapsed": false
   },
   "outputs": [
    {
     "name": "stderr",
     "output_type": "stream",
     "text": [
      "100%|██████████| 449/449 [03:10<00:00,  2.44it/s]\n"
     ]
    }
   ],
   "source": [
    "# comments\n",
    "for post in tqdm(wall):\n",
    "    comments = vk.wall.getComments(post_id=post['id'], owner_id=post['owner_id'], need_likes=1, count=1000)\n",
    "    comments = comments['items']\n",
    "    post['comments']['items'] = comments"
   ]
  },
  {
   "cell_type": "code",
   "execution_count": 65,
   "metadata": {
    "collapsed": false
   },
   "outputs": [
    {
     "data": {
      "text/plain": [
       "{'attachments': [{'photo': {'access_key': '08456483528097f1fe',\n",
       "    'album_id': -7,\n",
       "    'date': 1481356051,\n",
       "    'height': 656,\n",
       "    'id': 456239092,\n",
       "    'owner_id': -108367462,\n",
       "    'photo_1280': 'https://pp.vk.me/c837625/v837625028/e28f/MVd6chqO-jk.jpg',\n",
       "    'photo_130': 'https://pp.vk.me/c837625/v837625028/e28c/vNXi7JNyH5U.jpg',\n",
       "    'photo_604': 'https://pp.vk.me/c837625/v837625028/e28d/BNRKmJZ1MCE.jpg',\n",
       "    'photo_75': 'https://pp.vk.me/c837625/v837625028/e28b/zf7vyYu5ndk.jpg',\n",
       "    'photo_807': 'https://pp.vk.me/c837625/v837625028/e28e/vZ8ih7C_yXg.jpg',\n",
       "    'post_id': 725,\n",
       "    'text': '[10 УРОКОВ ДЛЯ ВАШЕЙ КАРЬЕРЫ ]\\nРаспечатайте и\\xa0повесьте на\\xa0стену!\\n\\nЛегко смотреть на\\xa0людей, у\\xa0которых карьера идёт в\\xa0гору соразмерно с\\xa0зарплатой, и\\xa0завистливо вздыхать. Сложнее остановиться и\\xa0задуматься о\\xa0том, что же пошло не\\xa0так, и\\xa0суметь вовремя это\\xa0исправить. \\n\\n1. Жизнь коротка\\n\\nКак бы банально это\\xa0ни\\xa0звучало, но\\xa0у\\xa0вас всегда есть выбор. И\\xa0свою короткую жизнь не\\xa0стоит тратить на\\xa0то, чтобы вкалывать на\\xa0ненавистной работе или\\xa0слушаться начальника‑самодура.\\n\\n2. Налаживайте связи\\n\\nВсе эти собрания, встречи, тимбилдинги и\\xa0другие мероприятия, названные модными иностранными словечками, означают одно и\\xa0то же. Вы должны провести какое‑то время вместе со\\xa0своими коллегами, обсуждая работу или\\xa0занимаясь общим делом. Несмотря на\\xa0то что подобные мероприятия кажутся скучными или\\xa0даже чужеродными, вам стоит уделять им больше внимания.\\nМногие успешные люди имеют очень широкий круг общения. Чем больше времени вы уделите тому, чтобы знакомиться с\\xa0профессионалами, тем успешнее вы будете.\\n\\n3. Не\\xa0жертвуйте здоровьем ради карьеры\\n\\nОщущение драйва от\\xa0работы заставляет нас позабыть обо\\xa0всём, поймать волну вдохновения и\\xa0уделять задачам невероятное количество времени. Такое поведение приводит к\\xa0выгоранию, серьёзным проблемам со\\xa0здоровьем, стрессу и\\xa0переутомлению.\\n\\n4. Монитор и\\xa0бумаги\\xa0— это\\xa0не\\xa0лучшее, что с\\xa0вами случалось\\n\\nПредставим себе такую картину. Вы наконец‑то собрались со\\xa0своими старыми друзьями и\\xa0за\\xa0бокалом пива начинаете ностальгировать: «А помнишь, как\\xa0ты сидел и\\xa0смотрел в\\xa0монитор ЧАСАМИ! Помнишь? А\\xa0как\\xa0я когда‑то 18 часо‑о-ов в\\xa0Slack переписывался по\\xa0проекту. Были же времена!»\\n\\n5. Не\\xa0прекращайте учиться\\n\\nТехнологии крадут не\\xa0только наше время и\\xa0внимание, но\\xa0и\\xa0ощущение реальности. Когда Google и\\xa0энциклопедии под\\xa0рукой, легко почувствовать себя умным. Но\\xa0это\\xa0лишь видимость. Вам нельзя расслабляться и\\xa0останавливаться в\\xa0обучении. Мир двигается вперёд с\\xa0сумасшедшей скоростью, и, если вы в\\xa0какой‑то момент подумаете',\n",
       "    'user_id': 100,\n",
       "    'width': 1000},\n",
       "   'type': 'photo'}],\n",
       " 'comments': {'can_post': 1,\n",
       "  'count': 2,\n",
       "  'items': [{'date': 1481357005,\n",
       "    'from_id': 173458547,\n",
       "    'id': 726,\n",
       "    'likes': {'can_like': 1, 'count': 1, 'user_likes': 0},\n",
       "    'text': 'Будьте проще, если что то не получается, жизнь на этом не заканчивается, помните об этом, двигайтесь всегда вперед😊😉'},\n",
       "   {'date': 1481357246,\n",
       "    'from_id': 173458547,\n",
       "    'id': 727,\n",
       "    'likes': {'can_like': 1, 'count': 0, 'user_likes': 0},\n",
       "    'text': 'Записывайте свои цели и подробный план, что бы не сбиться с пути.. Ставьте сроки по достижению и каждый божий день выполняйте одно из важных дел, не грузите себя большим списком дел) не сделали, не корите себя, будьте проще😊😊😉'}]},\n",
       " 'date': 1481356051,\n",
       " 'from_id': -108367462,\n",
       " 'id': 725,\n",
       " 'likes': {'can_like': 1,\n",
       "  'can_publish': 1,\n",
       "  'count': 11,\n",
       "  'user_likes': 0,\n",
       "  'users': [4607547,\n",
       "   71260433,\n",
       "   93845149,\n",
       "   71155266,\n",
       "   324588209,\n",
       "   212583749,\n",
       "   241744144,\n",
       "   173458547,\n",
       "   51946482,\n",
       "   730935,\n",
       "   214184223]},\n",
       " 'owner_id': -108367462,\n",
       " 'post_source': {'type': 'api'},\n",
       " 'post_type': 'post',\n",
       " 'reposts': {'count': 4,\n",
       "  'user_reposted': 0,\n",
       "  'users': [-96954264, 173458547, -97002047, -23485684]},\n",
       " 'text': '[10 УРОКОВ ДЛЯ ВАШЕЙ КАРЬЕРЫ ]\\nРаспечатайте и\\xa0повесьте на\\xa0стену!\\n\\nЛегко смотреть на\\xa0людей, у\\xa0которых карьера идёт в\\xa0гору соразмерно с\\xa0зарплатой, и\\xa0завистливо вздыхать. Сложнее остановиться и\\xa0задуматься о\\xa0том, что же пошло не\\xa0так, и\\xa0суметь вовремя это\\xa0исправить. \\n\\n1. Жизнь коротка\\n\\nКак бы банально это\\xa0ни\\xa0звучало, но\\xa0у\\xa0вас всегда есть выбор. И\\xa0свою короткую жизнь не\\xa0стоит тратить на\\xa0то, чтобы вкалывать на\\xa0ненавистной работе или\\xa0слушаться начальника‑самодура.\\n\\n2. Налаживайте связи\\n\\nВсе эти собрания, встречи, тимбилдинги и\\xa0другие мероприятия, названные модными иностранными словечками, означают одно и\\xa0то же. Вы должны провести какое‑то время вместе со\\xa0своими коллегами, обсуждая работу или\\xa0занимаясь общим делом. Несмотря на\\xa0то что подобные мероприятия кажутся скучными или\\xa0даже чужеродными, вам стоит уделять им больше внимания.\\nМногие успешные люди имеют очень широкий круг общения. Чем больше времени вы уделите тому, чтобы знакомиться с\\xa0профессионалами, тем успешнее вы будете.\\n\\n3. Не\\xa0жертвуйте здоровьем ради карьеры\\n\\nОщущение драйва от\\xa0работы заставляет нас позабыть обо\\xa0всём, поймать волну вдохновения и\\xa0уделять задачам невероятное количество времени. Такое поведение приводит к\\xa0выгоранию, серьёзным проблемам со\\xa0здоровьем, стрессу и\\xa0переутомлению.\\n\\n4. Монитор и\\xa0бумаги\\xa0— это\\xa0не\\xa0лучшее, что с\\xa0вами случалось\\n\\nПредставим себе такую картину. Вы наконец‑то собрались со\\xa0своими старыми друзьями и\\xa0за\\xa0бокалом пива начинаете ностальгировать: «А помнишь, как\\xa0ты сидел и\\xa0смотрел в\\xa0монитор ЧАСАМИ! Помнишь? А\\xa0как\\xa0я когда‑то 18 часо‑о-ов в\\xa0Slack переписывался по\\xa0проекту. Были же времена!»\\n\\n5. Не\\xa0прекращайте учиться\\n\\nТехнологии крадут не\\xa0только наше время и\\xa0внимание, но\\xa0и\\xa0ощущение реальности. Когда Google и\\xa0энциклопедии под\\xa0рукой, легко почувствовать себя умным. Но\\xa0это\\xa0лишь видимость. Вам нельзя расслабляться и\\xa0останавливаться в\\xa0обучении. Мир двигается вперёд с\\xa0сумасшедшей скоростью, и, если вы в\\xa0какой‑то момент подумаете: «Хватит учиться», тут‑то и\\xa0проиграете.\\n\\n6. Не\\xa0зацикливайтесь на\\xa0чём‑то одном\\n\\nКогда будете учиться, не\\xa0концентрируйте внимание на\\xa0одной сфере или\\xa0дисциплине. Обязательно пробуйте новые для\\xa0себя занятия.\\nКроме того, у\\xa0вас будет несколько профессий на\\xa0выбор. Ведь не\\xa0за\\xa0горами тот момент, когда водителей такси заменят автопилоты, а\\xa0специалистов по\\xa0работе с\\xa0клиентами\\xa0— чат‑боты. Многим придётся искать другую работу.\\n\\n7. Вместе проще достигать целей\\n\\nКаким бы волком‑одиночкой вы ни\\xa0были, придётся принять ещё один совет на\\xa0веру: в\\xa0команде работать намного проще, результативнее, быстрее. Какой бы великолепной и\\xa0гениальной ни\\xa0была ваша идея, вам просто необходимы те, кто возьмётся за\\xa0её исполнение.\\n\\n8. Переживаниями делу не\\xa0поможешь\\n\\nПротивоядие страху и\\xa0апатии\\xa0— поиск решения и\\xa0действие. Если вы проводите очень много времени за\\xa0тем, что просто боитесь предложить свою идею или\\xa0представить результаты своей работы, вот вам пища для\\xa0размышления. Кто‑то сделает это\\xa0за\\xa0вас.\\n\\n9. Проиграть не\\xa0значит сдаться\\n\\nНе спешите ставить на\\xa0себе клеймо неудачника и\\xa0опускать руки. Заезженная фраза о\\xa0том, что каждая неудача\\xa0— это\\xa0новая возможность, может быть, вам и\\xa0не\\xa0нравится, но\\xa0обязательно понадобится. У\\xa0нас не\\xa0принято хвастаться своими провалами. Но\\xa0извлекать из\\xa0них пользу придётся научиться. Иначе вы остановитесь в\\xa0профессиональном развитии и\\xa0никогда не\\xa0достигнете успеха.\\n\\n10. Счастье\\xa0— это\\xa0путешествие, а\\xa0не\\xa0пункт назначения\\n\\nМы всегда думаем что‑то вроде: «Вот похудею\\xa0— буду счастлива», «Вот получу повышение и\\xa0наконец‑то стану счастливым». Но\\xa0это\\xa0такой способ обмануть себя. Если вы не\\xa0умеете быть счастливым, то и\\xa0большая зарплата не\\xa0поможет.\\n\\nСчастье\\xa0— это\\xa0привычка и\\xa0дело выбора. Независимо от\\xa0ситуации.\\nМногие люди остаются счастливыми несмотря на\\xa0скромные условия жизни, трудную работу или\\xa0неблагоприятные обстоятельства. Они продолжают развиваться и\\xa0двигаться вперёд. Вам стоит делать так же.\\n\\nДорогу осилит счастливый идущий.\\nКакой совет вы бы добавили к\\xa0этому списку?\\n\\nИсточник https://goo.gl/n9ZVKg\\n#будущее #арсенал_talentedme #успех #карьера'}"
      ]
     },
     "execution_count": 65,
     "metadata": {},
     "output_type": "execute_result"
    }
   ],
   "source": [
    "wall[2]"
   ]
  },
  {
   "cell_type": "code",
   "execution_count": 66,
   "metadata": {
    "collapsed": false
   },
   "outputs": [
    {
     "data": {
      "text/plain": [
       "dict_keys(['post_type', 'post_source', 'comments', 'owner_id', 'reposts', 'id', 'from_id', 'date', 'text', 'likes', 'attachments'])"
      ]
     },
     "execution_count": 66,
     "metadata": {},
     "output_type": "execute_result"
    }
   ],
   "source": [
    "wall[2].keys()"
   ]
  },
  {
   "cell_type": "code",
   "execution_count": 63,
   "metadata": {
    "collapsed": false
   },
   "outputs": [],
   "source": [
    "with open('data/vk/wall.json', mode='w', encoding='utf-8') as f:\n",
    "    json.dump(wall, f, ensure_ascii=False, indent=2)"
   ]
  },
  {
   "cell_type": "code",
   "execution_count": null,
   "metadata": {
    "collapsed": true
   },
   "outputs": [],
   "source": []
  },
  {
   "cell_type": "code",
   "execution_count": 116,
   "metadata": {
    "collapsed": true
   },
   "outputs": [],
   "source": [
    "# какие-то таблицы"
   ]
  },
  {
   "cell_type": "code",
   "execution_count": 112,
   "metadata": {
    "collapsed": false,
    "scrolled": true
   },
   "outputs": [
    {
     "name": "stderr",
     "output_type": "stream",
     "text": [
      "100%|██████████| 449/449 [00:00<00:00, 226869.35it/s]\n"
     ]
    }
   ],
   "source": [
    "posts_predf = []\n",
    "\n",
    "for post in tqdm(wall):\n",
    "    row = (post['id'], post['date'], post['likes']['count'], post['reposts']['count'], post['comments']['count'], post['text'])\n",
    "    posts_predf.append(row)\n",
    "    \n",
    "posts_df = pd.DataFrame(posts_predf)"
   ]
  },
  {
   "cell_type": "code",
   "execution_count": 113,
   "metadata": {
    "collapsed": false
   },
   "outputs": [
    {
     "data": {
      "text/html": [
       "<div>\n",
       "<table border=\"1\" class=\"dataframe\">\n",
       "  <thead>\n",
       "    <tr style=\"text-align: right;\">\n",
       "      <th></th>\n",
       "      <th>post_id</th>\n",
       "      <th>date</th>\n",
       "      <th>likes</th>\n",
       "      <th>reposts</th>\n",
       "      <th>comments</th>\n",
       "      <th>text</th>\n",
       "    </tr>\n",
       "  </thead>\n",
       "  <tbody>\n",
       "    <tr>\n",
       "      <th>0</th>\n",
       "      <td>698</td>\n",
       "      <td>1480407159</td>\n",
       "      <td>12</td>\n",
       "      <td>7</td>\n",
       "      <td>3</td>\n",
       "      <td>10 видеокурсов по основам менеджмента для руко...</td>\n",
       "    </tr>\n",
       "    <tr>\n",
       "      <th>1</th>\n",
       "      <td>728</td>\n",
       "      <td>1481363739</td>\n",
       "      <td>1</td>\n",
       "      <td>0</td>\n",
       "      <td>0</td>\n",
       "      <td>#куспеху@talentedme #прокрастинация #цитата\\n\\...</td>\n",
       "    </tr>\n",
       "    <tr>\n",
       "      <th>2</th>\n",
       "      <td>725</td>\n",
       "      <td>1481356051</td>\n",
       "      <td>11</td>\n",
       "      <td>4</td>\n",
       "      <td>2</td>\n",
       "      <td>[10 УРОКОВ ДЛЯ ВАШЕЙ КАРЬЕРЫ ]\\nРаспечатайте и...</td>\n",
       "    </tr>\n",
       "    <tr>\n",
       "      <th>3</th>\n",
       "      <td>724</td>\n",
       "      <td>1481263024</td>\n",
       "      <td>6</td>\n",
       "      <td>3</td>\n",
       "      <td>0</td>\n",
       "      <td>[КАК ВЫЙТИ ИЗ ТВОРЧЕСКОГО КРИЗИСА?]\\nСоветы от...</td>\n",
       "    </tr>\n",
       "    <tr>\n",
       "      <th>4</th>\n",
       "      <td>722</td>\n",
       "      <td>1481204686</td>\n",
       "      <td>6</td>\n",
       "      <td>1</td>\n",
       "      <td>0</td>\n",
       "      <td>Здесь вы найдете много мотивирующих цитат http...</td>\n",
       "    </tr>\n",
       "  </tbody>\n",
       "</table>\n",
       "</div>"
      ],
      "text/plain": [
       "   post_id        date  likes  reposts  comments  \\\n",
       "0      698  1480407159     12        7         3   \n",
       "1      728  1481363739      1        0         0   \n",
       "2      725  1481356051     11        4         2   \n",
       "3      724  1481263024      6        3         0   \n",
       "4      722  1481204686      6        1         0   \n",
       "\n",
       "                                                text  \n",
       "0  10 видеокурсов по основам менеджмента для руко...  \n",
       "1  #куспеху@talentedme #прокрастинация #цитата\\n\\...  \n",
       "2  [10 УРОКОВ ДЛЯ ВАШЕЙ КАРЬЕРЫ ]\\nРаспечатайте и...  \n",
       "3  [КАК ВЫЙТИ ИЗ ТВОРЧЕСКОГО КРИЗИСА?]\\nСоветы от...  \n",
       "4  Здесь вы найдете много мотивирующих цитат http...  "
      ]
     },
     "execution_count": 113,
     "metadata": {},
     "output_type": "execute_result"
    }
   ],
   "source": [
    "posts_df.columns = ['post_id', 'date', 'likes', 'reposts', 'comments', 'text']\n",
    "posts_df.head()"
   ]
  },
  {
   "cell_type": "code",
   "execution_count": 114,
   "metadata": {
    "collapsed": false
   },
   "outputs": [],
   "source": [
    "posts_df.to_csv('data/vk/wall.csv')"
   ]
  },
  {
   "cell_type": "code",
   "execution_count": null,
   "metadata": {
    "collapsed": true
   },
   "outputs": [],
   "source": []
  },
  {
   "cell_type": "code",
   "execution_count": 108,
   "metadata": {
    "collapsed": false
   },
   "outputs": [
    {
     "name": "stderr",
     "output_type": "stream",
     "text": [
      "100%|██████████| 449/449 [00:00<00:00, 149868.10it/s]\n"
     ]
    }
   ],
   "source": [
    "comments_predf = []\n",
    "\n",
    "for post in tqdm(wall):\n",
    "    for comment in post['comments']['items']:\n",
    "        row = (post['id'], comment['id'], comment['from_id'], comment['date'], comment['likes']['count'], comment['text'])\n",
    "        comments_predf.append(row)\n",
    "    \n",
    "comments_df = pd.DataFrame(comments_predf)\n",
    "comments_df.columns = ['post_id', 'comment_id', 'user_id', 'date', 'likes', 'text']\n",
    "comments_df.to_csv('data/vk/wall-comments.csv')"
   ]
  },
  {
   "cell_type": "code",
   "execution_count": 109,
   "metadata": {
    "collapsed": false
   },
   "outputs": [
    {
     "data": {
      "text/html": [
       "<div>\n",
       "<table border=\"1\" class=\"dataframe\">\n",
       "  <thead>\n",
       "    <tr style=\"text-align: right;\">\n",
       "      <th></th>\n",
       "      <th>post_id</th>\n",
       "      <th>comment_id</th>\n",
       "      <th>user_id</th>\n",
       "      <th>date</th>\n",
       "      <th>likes</th>\n",
       "      <th>text</th>\n",
       "    </tr>\n",
       "  </thead>\n",
       "  <tbody>\n",
       "    <tr>\n",
       "      <th>0</th>\n",
       "      <td>698</td>\n",
       "      <td>699</td>\n",
       "      <td>375376551</td>\n",
       "      <td>1480408965</td>\n",
       "      <td>1</td>\n",
       "      <td>Так и задумано, что все ссылки битые?</td>\n",
       "    </tr>\n",
       "    <tr>\n",
       "      <th>1</th>\n",
       "      <td>698</td>\n",
       "      <td>700</td>\n",
       "      <td>336340028</td>\n",
       "      <td>1480414409</td>\n",
       "      <td>0</td>\n",
       "      <td>[id375376551|Juli], спасибо за информацию, на ...</td>\n",
       "    </tr>\n",
       "    <tr>\n",
       "      <th>2</th>\n",
       "      <td>698</td>\n",
       "      <td>701</td>\n",
       "      <td>375376551</td>\n",
       "      <td>1480416213</td>\n",
       "      <td>0</td>\n",
       "      <td>[id336340028|Сергей], спасибо, теперь вроде от...</td>\n",
       "    </tr>\n",
       "    <tr>\n",
       "      <th>3</th>\n",
       "      <td>725</td>\n",
       "      <td>726</td>\n",
       "      <td>173458547</td>\n",
       "      <td>1481357005</td>\n",
       "      <td>1</td>\n",
       "      <td>Будьте проще, если что то не получается, жизнь...</td>\n",
       "    </tr>\n",
       "    <tr>\n",
       "      <th>4</th>\n",
       "      <td>725</td>\n",
       "      <td>727</td>\n",
       "      <td>173458547</td>\n",
       "      <td>1481357246</td>\n",
       "      <td>0</td>\n",
       "      <td>Записывайте свои цели и подробный план, что бы...</td>\n",
       "    </tr>\n",
       "  </tbody>\n",
       "</table>\n",
       "</div>"
      ],
      "text/plain": [
       "   post_id  comment_id    user_id        date  likes  \\\n",
       "0      698         699  375376551  1480408965      1   \n",
       "1      698         700  336340028  1480414409      0   \n",
       "2      698         701  375376551  1480416213      0   \n",
       "3      725         726  173458547  1481357005      1   \n",
       "4      725         727  173458547  1481357246      0   \n",
       "\n",
       "                                                text  \n",
       "0              Так и задумано, что все ссылки битые?  \n",
       "1  [id375376551|Juli], спасибо за информацию, на ...  \n",
       "2  [id336340028|Сергей], спасибо, теперь вроде от...  \n",
       "3  Будьте проще, если что то не получается, жизнь...  \n",
       "4  Записывайте свои цели и подробный план, что бы...  "
      ]
     },
     "execution_count": 109,
     "metadata": {},
     "output_type": "execute_result"
    }
   ],
   "source": [
    "comments_df.head()"
   ]
  },
  {
   "cell_type": "code",
   "execution_count": null,
   "metadata": {
    "collapsed": true
   },
   "outputs": [],
   "source": []
  },
  {
   "cell_type": "code",
   "execution_count": 110,
   "metadata": {
    "collapsed": false
   },
   "outputs": [
    {
     "name": "stderr",
     "output_type": "stream",
     "text": [
      "100%|██████████| 449/449 [00:00<00:00, 116703.38it/s]\n"
     ]
    }
   ],
   "source": [
    "likes_predf = []\n",
    "\n",
    "for post in tqdm(wall):\n",
    "    for user in post['likes']['users']:\n",
    "        row = (post['id'], user, 0)\n",
    "        likes_predf.append(row)\n",
    "    for user in post['reposts']['users']:\n",
    "        row = (post['id'], user, 1)\n",
    "        likes_predf.append(row)\n",
    "    \n",
    "likes_df = pd.DataFrame(likes_predf)\n",
    "likes_df.columns = ['post_id', 'user_id', 'is_repost']\n",
    "likes_df.to_csv('data/vk/wall-likes-and-reposts.csv')"
   ]
  },
  {
   "cell_type": "code",
   "execution_count": 111,
   "metadata": {
    "collapsed": false
   },
   "outputs": [
    {
     "data": {
      "text/html": [
       "<div>\n",
       "<table border=\"1\" class=\"dataframe\">\n",
       "  <thead>\n",
       "    <tr style=\"text-align: right;\">\n",
       "      <th></th>\n",
       "      <th>post_id</th>\n",
       "      <th>user_id</th>\n",
       "      <th>is_repost</th>\n",
       "    </tr>\n",
       "  </thead>\n",
       "  <tbody>\n",
       "    <tr>\n",
       "      <th>0</th>\n",
       "      <td>698</td>\n",
       "      <td>119871102</td>\n",
       "      <td>0</td>\n",
       "    </tr>\n",
       "    <tr>\n",
       "      <th>1</th>\n",
       "      <td>698</td>\n",
       "      <td>190355493</td>\n",
       "      <td>0</td>\n",
       "    </tr>\n",
       "    <tr>\n",
       "      <th>2</th>\n",
       "      <td>698</td>\n",
       "      <td>145759099</td>\n",
       "      <td>0</td>\n",
       "    </tr>\n",
       "    <tr>\n",
       "      <th>3</th>\n",
       "      <td>698</td>\n",
       "      <td>242956477</td>\n",
       "      <td>0</td>\n",
       "    </tr>\n",
       "    <tr>\n",
       "      <th>4</th>\n",
       "      <td>698</td>\n",
       "      <td>98213622</td>\n",
       "      <td>0</td>\n",
       "    </tr>\n",
       "  </tbody>\n",
       "</table>\n",
       "</div>"
      ],
      "text/plain": [
       "   post_id    user_id  is_repost\n",
       "0      698  119871102          0\n",
       "1      698  190355493          0\n",
       "2      698  145759099          0\n",
       "3      698  242956477          0\n",
       "4      698   98213622          0"
      ]
     },
     "execution_count": 111,
     "metadata": {},
     "output_type": "execute_result"
    }
   ],
   "source": [
    "likes_df.head()"
   ]
  },
  {
   "cell_type": "code",
   "execution_count": null,
   "metadata": {
    "collapsed": true
   },
   "outputs": [],
   "source": []
  },
  {
   "cell_type": "code",
   "execution_count": 115,
   "metadata": {
    "collapsed": true
   },
   "outputs": [],
   "source": [
    "# нужные таблицы"
   ]
  },
  {
   "cell_type": "code",
   "execution_count": 118,
   "metadata": {
    "collapsed": false
   },
   "outputs": [
    {
     "data": {
      "text/plain": [
       "1340"
      ]
     },
     "execution_count": 118,
     "metadata": {},
     "output_type": "execute_result"
    }
   ],
   "source": [
    "len(likes_df.user_id.unique())"
   ]
  },
  {
   "cell_type": "code",
   "execution_count": null,
   "metadata": {
    "collapsed": true
   },
   "outputs": [],
   "source": [
    "liked_group_themes_predf = []\n",
    "\n",
    "for user in likes_df.user_id.unique():\n",
    "    # TODO"
   ]
  }
 ],
 "metadata": {
  "anaconda-cloud": {},
  "kernelspec": {
   "display_name": "Python [default]",
   "language": "python",
   "name": "python3"
  },
  "language_info": {
   "codemirror_mode": {
    "name": "ipython",
    "version": 3
   },
   "file_extension": ".py",
   "mimetype": "text/x-python",
   "name": "python",
   "nbconvert_exporter": "python",
   "pygments_lexer": "ipython3",
   "version": "3.5.2"
  }
 },
 "nbformat": 4,
 "nbformat_minor": 1
}
