{
 "cells": [
  {
   "cell_type": "markdown",
   "metadata": {},
   "source": [
    "# Работа с текстами"
   ]
  },
  {
   "cell_type": "markdown",
   "metadata": {},
   "source": [
    "###### библиотека NLTK - питоновская библиотека для манипуляцй с текстами"
   ]
  },
  {
   "cell_type": "code",
   "execution_count": 1,
   "metadata": {
    "collapsed": true
   },
   "outputs": [],
   "source": [
    "import nltk"
   ]
  },
  {
   "cell_type": "markdown",
   "metadata": {},
   "source": [
    "##### токенизация: разбитие текста на токены\n",
    "Первый этап работы с текстовой информацией - выделение слов. "
   ]
  },
  {
   "cell_type": "code",
   "execution_count": 2,
   "metadata": {
    "collapsed": false
   },
   "outputs": [
    {
     "name": "stdout",
     "output_type": "stream",
     "text": [
      "WordPuckt tokenizer\n",
      "['Мама', 'мыла', 'раму']\n",
      "['Ростов', '-', 'на', '-', 'Дону']\n",
      "\n",
      "TreebankWord tokenizer\n",
      "['Мама', 'мыла', 'раму']\n",
      "['Ростов-на-Дону']\n"
     ]
    }
   ],
   "source": [
    "tokenizer = nltk.tokenize.WordPunctTokenizer()\n",
    "\n",
    "print(\"WordPuckt tokenizer\")\n",
    "print(tokenizer.tokenize('Мама мыла раму'))\n",
    "print(tokenizer.tokenize('Ростов-на-Дону'))\n",
    "\n",
    "\n",
    "tokenizer = nltk.tokenize.TreebankWordTokenizer()\n",
    "print(\"\\nTreebankWord tokenizer\")\n",
    "print(tokenizer.tokenize('Мама мыла раму'))\n",
    "print(tokenizer.tokenize('Ростов-на-Дону'))"
   ]
  },
  {
   "cell_type": "markdown",
   "metadata": {},
   "source": [
    "##### Стемминг - приведение слов к нормальному виду\n"
   ]
  },
  {
   "cell_type": "code",
   "execution_count": 3,
   "metadata": {
    "collapsed": false
   },
   "outputs": [
    {
     "name": "stdout",
     "output_type": "stream",
     "text": [
      "['карл', 'у', 'клар', 'укра', 'коралл', ',', 'клар', 'у', 'карл', 'урка', 'кларнет', '.']\n"
     ]
    }
   ],
   "source": [
    "from nltk.stem.snowball import RussianStemmer\n",
    "stemmer = RussianStemmer()\n",
    "tokens = tokenizer.tokenize('Карл у Клары украл кораллы, Клара у Карла уркала кларнет.')\n",
    "tokens_stem = [stemmer.stem(token.lower()) for token in tokens]\n",
    "print(tokens_stem)"
   ]
  },
  {
   "cell_type": "markdown",
   "metadata": {},
   "source": [
    "#### Мешок слов\n",
    "Простейшая модель для работы с текстами - 'мешок слов'. Идея заключается в том, что смысл текста можно восстановить даже не зная порядок слов, только зная их количества"
   ]
  },
  {
   "cell_type": "code",
   "execution_count": 4,
   "metadata": {
    "collapsed": false
   },
   "outputs": [
    {
     "name": "stdout",
     "output_type": "stream",
     "text": [
      "{'урка': 1, 'клар': 2, 'укра': 1, 'карл': 2, 'кларнет': 1, ',': 1, 'коралл': 1, '.': 1, 'у': 2}\n"
     ]
    }
   ],
   "source": [
    "from collections import Counter\n",
    "tokens_bow = Counter(tokens_stem)\n",
    "print(dict(tokens_bow))"
   ]
  },
  {
   "cell_type": "markdown",
   "metadata": {},
   "source": [
    "#### Корпусом в текстовом анализе называают набор документов"
   ]
  },
  {
   "cell_type": "code",
   "execution_count": 5,
   "metadata": {
    "collapsed": false
   },
   "outputs": [
    {
     "name": "stdout",
     "output_type": "stream",
     "text": [
      "['бел', 'заяц', 'бел', ',', 'да', 'цен', 'ем', 'пятнадца', 'копеек', '.']\n",
      "['в', 'кулак', 'все', 'пальц', 'равн', '.']\n",
      "['глаз', 'стыдн', ',', 'а', 'душ', 'рад', '.']\n",
      "['где', 'дешев', ',', 'там', 'и', 'дор', '.']\n",
      "['дойдут', 'и', 'до', 'глух', 'вест', '.']\n",
      "['и', 'бородавк', 'тел', 'прибавк', '.']\n",
      "['куп', 'лишн', '-', 'прода', 'нужн', '.']\n",
      "['одн', 'мах', 'сто', 'побивах', ',', 'а', 'проч', 'не', 'считах', '.']\n",
      "['смерт', 'найдет', 'причин', '.']\n",
      "['у', 'наш', 'гришк', 'нет', 'отрыжк', '.']\n"
     ]
    },
    {
     "name": "stderr",
     "output_type": "stream",
     "text": [
      "/anaconda3/lib/python3.5/site-packages/gensim/utils.py:1015: UserWarning: Pattern library is not installed, lemmatization won't be available.\n",
      "  warnings.warn(\"Pattern library is not installed, lemmatization won't be available.\")\n"
     ]
    }
   ],
   "source": [
    "import gensim\n",
    "corpora = [\n",
    "    \"Белый заяц бел, да цена ему пятнадцать копеек.\",\n",
    "    \"В кулаке все пальцы равны.\",\n",
    "    \"Глазам стыдно, а душа радуется.\",\n",
    "    \"Где дешево, там и дорого.\",\n",
    "    \"Дойдут и до глухого вести.\",\n",
    "    \"И бородавка телу прибавка.\",\n",
    "    \"Купить лишнее - продать нужное.\",\n",
    "    \"Одним махом сто побивахом, а прочих не считахом.\",\n",
    "    \"Смерть найдет причину.\",\n",
    "    \"У нашего Гришки нет отрыжки.\"\n",
    "]\n",
    "\n",
    "corpora_tokenzied = [tokenizer.tokenize(doc.lower()) for doc in corpora]\n",
    "corpora_stemmed = []\n",
    "\n",
    "for doc in corpora_tokenzied:\n",
    "    stemmed_doc = [stemmer.stem(token) for token in doc]\n",
    "    corpora_stemmed.append(stemmed_doc)\n",
    "\n",
    "for doc in corpora_stemmed:\n",
    "    print(doc)"
   ]
  },
  {
   "cell_type": "markdown",
   "metadata": {},
   "source": [
    "#### библиотека gensim содержит некоторое количество математических моделей для работы с текстами"
   ]
  },
  {
   "cell_type": "code",
   "execution_count": 6,
   "metadata": {
    "collapsed": true
   },
   "outputs": [],
   "source": [
    "import gensim"
   ]
  },
  {
   "cell_type": "markdown",
   "metadata": {},
   "source": [
    "При работе с текстами не очень удобно использазовать строковые id, удобнее все слова языка пронумеровать и заменить их числами. В gensim для этого есть специальный класс Dictionary."
   ]
  },
  {
   "cell_type": "code",
   "execution_count": 7,
   "metadata": {
    "collapsed": false
   },
   "outputs": [
    {
     "name": "stdout",
     "output_type": "stream",
     "text": [
      "10\n"
     ]
    }
   ],
   "source": [
    "dictionary = gensim.corpora.Dictionary(corpora_stemmed)\n",
    "print(dictionary.token2id['в'])"
   ]
  },
  {
   "cell_type": "markdown",
   "metadata": {},
   "source": [
    "Теперь соберем преобразуем наш корпус в мешки слов. Для этого воспользуемся стандартным функционалом gensim"
   ]
  },
  {
   "cell_type": "code",
   "execution_count": 8,
   "metadata": {
    "collapsed": false
   },
   "outputs": [
    {
     "data": {
      "text/plain": [
       "[[(0, 1), (1, 1), (2, 1), (3, 1), (4, 1), (5, 1), (6, 1), (7, 2), (8, 1)],\n",
       " [(6, 1), (9, 1), (10, 1), (11, 1), (12, 1), (13, 1)],\n",
       " [(6, 1), (8, 1), (14, 1), (15, 1), (16, 1), (17, 1), (18, 1)],\n",
       " [(6, 1), (8, 1), (19, 1), (20, 1), (21, 1), (22, 1), (23, 1)],\n",
       " [(6, 1), (21, 1), (24, 1), (25, 1), (26, 1), (27, 1)],\n",
       " [(6, 1), (21, 1), (28, 1), (29, 1), (30, 1)],\n",
       " [(6, 1), (31, 1), (32, 1), (33, 1), (34, 1), (35, 1)],\n",
       " [(6, 1),\n",
       "  (8, 1),\n",
       "  (17, 1),\n",
       "  (36, 1),\n",
       "  (37, 1),\n",
       "  (38, 1),\n",
       "  (39, 1),\n",
       "  (40, 1),\n",
       "  (41, 1),\n",
       "  (42, 1)],\n",
       " [(6, 1), (43, 1), (44, 1), (45, 1)],\n",
       " [(6, 1), (46, 1), (47, 1), (48, 1), (49, 1), (50, 1)]]"
      ]
     },
     "execution_count": 8,
     "metadata": {},
     "output_type": "execute_result"
    }
   ],
   "source": [
    "corpora_bow = [dictionary.doc2bow(doc) for doc in corpora_stemmed]\n",
    "corpora_bow"
   ]
  },
  {
   "cell_type": "markdown",
   "metadata": {},
   "source": [
    "Теперь можно уже воспринимать документы не как тексты, а как вектор в N-мерном пространстве, в котором i-я координата означает количество раз, которое i-е слово встретилось в документе. "
   ]
  },
  {
   "cell_type": "markdown",
   "metadata": {},
   "source": [
    "#### частотный анализ. Посчитаем сколько раз каждое из слов встретилось в нашем корпусе\n"
   ]
  },
  {
   "cell_type": "code",
   "execution_count": 9,
   "metadata": {
    "collapsed": false
   },
   "outputs": [
    {
     "name": "stdout",
     "output_type": "stream",
     "text": [
      ". 10\n",
      ", 4\n",
      "и 3\n",
      "бел 2\n",
      "а 2\n"
     ]
    }
   ],
   "source": [
    "result = Counter()\n",
    "for doc in corpora_bow:\n",
    "    result += Counter(dict(doc))\n",
    "\n",
    "for token_id, cnt in result.most_common(5):\n",
    "    print(dictionary[token_id], cnt)"
   ]
  },
  {
   "cell_type": "markdown",
   "metadata": {},
   "source": [
    "##### считаем примеры текстов с которыми будем работать - база русскоязычных твитов"
   ]
  },
  {
   "cell_type": "code",
   "execution_count": 10,
   "metadata": {
    "collapsed": false
   },
   "outputs": [],
   "source": [
    "import json\n",
    "twits = [json.loads(line) for line in open('twits.json')]\n",
    "corpora = [twit['text'] for twit in twits]"
   ]
  },
  {
   "cell_type": "markdown",
   "metadata": {},
   "source": [
    "### Задача №1. Посчитать частоты токенов в нашей базе. найти 20 самых частых. Для анализа использовать первых 5000 твитов\n",
    "В процессе построить мешки слов и словарь при помощи gensim по первым 10000 "
   ]
  },
  {
   "cell_type": "code",
   "execution_count": 11,
   "metadata": {
    "collapsed": false
   },
   "outputs": [],
   "source": [
    "import pickle\n",
    "(dictionary, corpora_bow) = pickle.load(open('twits_bow.pickle', 'rb'))"
   ]
  },
  {
   "cell_type": "code",
   "execution_count": null,
   "metadata": {
    "collapsed": false
   },
   "outputs": [],
   "source": []
  },
  {
   "cell_type": "markdown",
   "metadata": {},
   "source": [
    "# закон ципфа\n",
    "Закон Ципфа («ранг—частота») — эмпирическая закономерность распределения частоты слов естественного языка: если все слова языка (или просто достаточно длинного текста) упорядочить по убыванию частоты их использования, то частота n-го слова в таком списке окажется приблизительно обратно пропорциональной его порядковому номеру n (так называемому рангу этого слова, см. шкала порядка)."
   ]
  },
  {
   "cell_type": "code",
   "execution_count": 12,
   "metadata": {
    "collapsed": false
   },
   "outputs": [
    {
     "name": "stderr",
     "output_type": "stream",
     "text": [
      "100%|██████████| 226834/226834 [00:02<00:00, 85834.86it/s]\n"
     ]
    }
   ],
   "source": [
    "from tqdm import tqdm\n",
    "token_freq = Counter()\n",
    "for doc in tqdm(corpora_bow):\n",
    "    for(token,cnt) in doc:\n",
    "        token_freq[token] += cnt\n",
    "\n"
   ]
  },
  {
   "cell_type": "code",
   "execution_count": 13,
   "metadata": {
    "collapsed": false
   },
   "outputs": [
    {
     "data": {
      "image/png": "[encoded data removed]",
      "text/plain": [
       "<matplotlib.figure.Figure at 0x7fb265ca04e0>"
      ]
     },
     "metadata": {},
     "output_type": "display_data"
    }
   ],
   "source": [
    "import math\n",
    "from matplotlib import pyplot as plt\n",
    "\n",
    "token_freq_list = token_freq.most_common(100)\n",
    "rank = list(range(len(token_freq_list)))\n",
    "freq = []\n",
    "for i in rank:\n",
    "    freq.append(token_freq_list[i][1])\n",
    "    \n",
    "plt.plot(rank, freq)\n",
    "plt.show()"
   ]
  },
  {
   "cell_type": "markdown",
   "metadata": {},
   "source": [
    "Самые частые слова являются наименее информативными. Хочется придумать какую-то модель, которая будет давать больший вес более редким словам и меньший вес более частым. "
   ]
  },
  {
   "cell_type": "markdown",
   "metadata": {},
   "source": [
    "# tf-idf"
   ]
  },
  {
   "cell_type": "markdown",
   "metadata": {},
   "source": [
    "В модели tf-idf вместо просто количества слова используем количество домноженное на коэффицент idf, который уменьшает вес частых слов\n",
    "\n",
    "![tf](https://wikimedia.org/api/rest_v1/media/math/render/svg/92a19022b85d3796b7e6237ea6829cb550ef17ff)\n",
    "![idf](https://wikimedia.org/api/rest_v1/media/math/render/svg/1c1f3347300bd19654bedfaef73861cf75ac5e65)\n",
    "\n",
    "doc[word] = tf[doc][word] * idf[word]\n"
   ]
  },
  {
   "cell_type": "markdown",
   "metadata": {},
   "source": [
    "в gensim есть специальный модуль для работы с tfidf"
   ]
  },
  {
   "cell_type": "code",
   "execution_count": 14,
   "metadata": {
    "collapsed": false
   },
   "outputs": [
    {
     "data": {
      "text/plain": [
       "[[(0, 0.4809026955942146),\n",
       "  (1, 0.1549904463520553),\n",
       "  (2, 0.0928497710225409),\n",
       "  (3, 0.05387287818990413),\n",
       "  (4, 0.02691455151845914),\n",
       "  (5, 0.05694296285347024),\n",
       "  (6, 0.21336144715571811),\n",
       "  (7, 0.2613056562290683),\n",
       "  (8, 0.1365261262821155),\n",
       "  (9, 0.11739324533170863),\n",
       "  (10, 0.3586296798665273),\n",
       "  (11, 0.022750476143302615),\n",
       "  (12, 0.03383443400792644),\n",
       "  (13, 0.10507218953206536),\n",
       "  (14, 0.2844796304054208),\n",
       "  (15, 0.2760828913633363),\n",
       "  (16, 0.10461194513338669),\n",
       "  (17, 0.12415370943374056),\n",
       "  (18, 0.04893813111363555),\n",
       "  (19, 0.4809026955942146),\n",
       "  (20, 0.15654920366278924)],\n",
       " [(11, 0.033510687148961264),\n",
       "  (13, 0.1547678057059894),\n",
       "  (16, 0.15408988116678263),\n",
       "  (18, 0.03604211162601677),\n",
       "  (21, 0.18255729656546324),\n",
       "  (22, 0.3526617324860378),\n",
       "  (23, 0.3189773942397312),\n",
       "  (24, 0.29094404024668824),\n",
       "  (25, 0.13925247646107314),\n",
       "  (26, 0.2402371254502715),\n",
       "  (27, 0.10800724736436605),\n",
       "  (28, 0.16903184031029542),\n",
       "  (29, 0.34345593709987315),\n",
       "  (30, 0.49646280177728175),\n",
       "  (31, 0.3151234318267114),\n",
       "  (32, 0.1571821537704393)],\n",
       " [(3, 0.07325521692416467),\n",
       "  (4, 0.03659784619175622),\n",
       "  (11, 0.03093562328581858),\n",
       "  (12, 0.046007358174181785),\n",
       "  (33, 0.6539214623170371),\n",
       "  (34, 0.14764949747564143),\n",
       "  (35, 0.0961845290458332),\n",
       "  (36, 0.155548616106935),\n",
       "  (37, 0.30291945736513637),\n",
       "  (38, 0.15406286720369633),\n",
       "  (39, 0.163900164163711),\n",
       "  (40, 0.4081579845056995),\n",
       "  (41, 0.4454304924890045)],\n",
       " [(1, 0.25755824656689236),\n",
       "  (4, 0.022362877388205873),\n",
       "  (5, 0.0946260238102024),\n",
       "  (9, 0.09754020050291619),\n",
       "  (11, 0.056709038027296786),\n",
       "  (18, 0.040661923158986715),\n",
       "  (35, 0.05877293484496925),\n",
       "  (42, 0.101770468266705),\n",
       "  (43, 0.19980567881945818),\n",
       "  (44, 0.27623289761436326),\n",
       "  (45, 0.06300530657561931),\n",
       "  (46, 0.16909798863447006),\n",
       "  (47, 0.06177772991895376),\n",
       "  (48, 0.04944568927655122),\n",
       "  (49, 0.17895137647855605),\n",
       "  (50, 0.39957448333684153),\n",
       "  (51, 0.0400051570031075),\n",
       "  (52, 0.13213220000779016),\n",
       "  (53, 0.25524693647526236),\n",
       "  (54, 0.2266302277392842),\n",
       "  (55, 0.11861176126567528),\n",
       "  (56, 0.26285609216787875),\n",
       "  (57, 0.09831767438052137),\n",
       "  (58, 0.09580741889449544),\n",
       "  (59, 0.1431053066325707),\n",
       "  (60, 0.0994415385884442),\n",
       "  (61, 0.11664514519086171),\n",
       "  (62, 0.06678622637821433),\n",
       "  (63, 0.32187907268822624),\n",
       "  (64, 0.39957448333684153)],\n",
       " [(2, 0.08552415616271031),\n",
       "  (4, 0.024791060675369878),\n",
       "  (11, 0.04191104087878627),\n",
       "  (13, 0.1935645128024429),\n",
       "  (16, 0.09635832413523825),\n",
       "  (18, 0.06761555233115787),\n",
       "  (25, 0.08707992479368132),\n",
       "  (36, 0.10536727105939547),\n",
       "  (65, 0.14320909507726262),\n",
       "  (66, 0.4429606749065996),\n",
       "  (67, 0.36403704910935764),\n",
       "  (68, 0.1472444267255891),\n",
       "  (69, 0.28467268538928203),\n",
       "  (70, 0.1952335521166106),\n",
       "  (71, 0.24281062913688264),\n",
       "  (72, 0.11384221750600906),\n",
       "  (73, 0.20806077429844677),\n",
       "  (74, 0.22408153744333922),\n",
       "  (75, 0.4429606749065996),\n",
       "  (76, 0.17134884710465167),\n",
       "  (77, 0.19806631393836888)],\n",
       " [(3, 0.07821237548807516),\n",
       "  (11, 0.06605805527524003),\n",
       "  (13, 0.1525432799797237),\n",
       "  (34, 0.15764089469757797),\n",
       "  (38, 0.16448825523210148),\n",
       "  (45, 0.1100884841954733),\n",
       "  (51, 0.06990057399670288),\n",
       "  (52, 0.23087315026095867),\n",
       "  (78, 0.2597149210078594),\n",
       "  (79, 0.2777533082668719),\n",
       "  (80, 0.23834257844132967),\n",
       "  (81, 0.12070374697214771),\n",
       "  (82, 0.6981721315957252),\n",
       "  (83, 0.1912563434013319),\n",
       "  (84, 0.23510843448427396),\n",
       "  (85, 0.2208168508406764)],\n",
       " [(2, 0.08898227655693762),\n",
       "  (4, 0.051586946101139404),\n",
       "  (11, 0.043605689872814206),\n",
       "  (13, 0.10069559164680587),\n",
       "  (17, 0.1189823042829132),\n",
       "  (18, 0.023449849520232154),\n",
       "  (32, 0.10226642355000506),\n",
       "  (35, 0.06778904542159302),\n",
       "  (38, 0.10858060860989013),\n",
       "  (51, 0.04614218113039737),\n",
       "  (62, 0.07703162255605978),\n",
       "  (86, 0.11303889504641733),\n",
       "  (87, 0.46087153673166015),\n",
       "  (88, 0.15834495140728996),\n",
       "  (89, 0.16790686439225036),\n",
       "  (90, 0.16778924955968952),\n",
       "  (91, 0.4198141079731378),\n",
       "  (92, 0.18689454838861796),\n",
       "  (93, 0.18903499655269648),\n",
       "  (94, 0.1838862459103644),\n",
       "  (95, 0.07959191504154273),\n",
       "  (96, 0.11798565636081691),\n",
       "  (97, 0.4090628299138758),\n",
       "  (98, 0.11253688702503181),\n",
       "  (99, 0.18461592536222857),\n",
       "  (100, 0.2095879180512785),\n",
       "  (101, 0.24936490215234114)],\n",
       " [(2, 0.10553077333059209),\n",
       "  (4, 0.0305904193872435),\n",
       "  (11, 0.05171526681436957),\n",
       "  (13, 0.11942247454940425),\n",
       "  (28, 0.13042893872801112),\n",
       "  (35, 0.08039612677369275),\n",
       "  (36, 0.13001577679968232),\n",
       "  (51, 0.10944696508714888),\n",
       "  (52, 0.18074505094452512),\n",
       "  (81, 0.09449606795340358),\n",
       "  (83, 0.14973000321806143),\n",
       "  (102, 0.12115897888269633),\n",
       "  (103, 0.5465822134392053),\n",
       "  (104, 0.30813245163720143),\n",
       "  (105, 0.5158602926967064),\n",
       "  (106, 0.3877521873002312),\n",
       "  (107, 0.17255469789827732)],\n",
       " [(4, 0.040198017677459064),\n",
       "  (12, 0.05053315398640957),\n",
       "  (28, 0.17139303382114437),\n",
       "  (98, 0.17538389518655864),\n",
       "  (108, 0.6138913998224589),\n",
       "  (109, 0.37944371991343245),\n",
       "  (110, 0.22121308108059504),\n",
       "  (111, 0.604913235423785)],\n",
       " [(2, 0.08646024195996375),\n",
       "  (11, 0.04236976893732567),\n",
       "  (12, 0.03150609116950402),\n",
       "  (45, 0.07061097421938424),\n",
       "  (107, 0.14137223163216064),\n",
       "  (112, 0.44780900332194223),\n",
       "  (113, 0.33902545328515443),\n",
       "  (114, 0.1346444270422688),\n",
       "  (115, 0.20970740716359387),\n",
       "  (116, 0.44780900332194223),\n",
       "  (117, 0.44780900332194223),\n",
       "  (118, 0.422638859893255),\n",
       "  (119, 0.08659033037416142)]]"
      ]
     },
     "execution_count": 14,
     "metadata": {},
     "output_type": "execute_result"
    }
   ],
   "source": [
    "tfidf = gensim.models.TfidfModel(corpora_bow)\n",
    "corpora_tfidf = tfidf[corpora_bow]\n",
    "list(corpora_tfidf[:10])"
   ]
  },
  {
   "cell_type": "markdown",
   "metadata": {},
   "source": [
    "## sentiment analysis"
   ]
  },
  {
   "cell_type": "markdown",
   "metadata": {},
   "source": [
    "Теперь у нас есть хорошее представление наших твитов. Попробуем обучить логистическую регрессию, которая научится отличать негативные твиты от позитивных"
   ]
  },
  {
   "cell_type": "code",
   "execution_count": 15,
   "metadata": {
    "collapsed": false
   },
   "outputs": [],
   "source": [
    "target = [twit['sentiment'] for twit in twits]"
   ]
  },
  {
   "cell_type": "code",
   "execution_count": 17,
   "metadata": {
    "collapsed": false
   },
   "outputs": [],
   "source": [
    "from scipy.sparse import csc_matrix\n",
    "try:\n",
    "    (data, col, row) = pickle.load(open('matrix.pickle', 'rb'))\n",
    "except:\n",
    "    data = []\n",
    "    col = []\n",
    "    row = []\n",
    "    for i in tqdm(range(len(corpora_tfidf))):\n",
    "        for j in range(len(corpora_tfidf[i])):\n",
    "            data.append(corpora_tfidf[i][j][1])\n",
    "            col.append(corpora_tfidf[i][j][0])\n",
    "            row.append(i)\n",
    "    pickle.dump((data, col, row), open('matrix.pickle', 'wb'))"
   ]
  },
  {
   "cell_type": "code",
   "execution_count": 18,
   "metadata": {
    "collapsed": false
   },
   "outputs": [],
   "source": [
    "matrix = csc_matrix((data, (row, col)), shape=(len(corpora_tfidf), len(dictionary)))\n",
    "from sklearn.linear_model import LogisticRegression\n",
    "from sklearn.naive_bayes import BernoulliNB"
   ]
  },
  {
   "cell_type": "code",
   "execution_count": null,
   "metadata": {
    "collapsed": false
   },
   "outputs": [],
   "source": [
    "classifier = LogisticRegression()\n",
    "classifier.fit(matrix, target)\n"
   ]
  },
  {
   "cell_type": "code",
   "execution_count": null,
   "metadata": {
    "collapsed": false
   },
   "outputs": [],
   "source": [
    "coef_weight = list(enumerate(classifier.coef_[0]))\n",
    "coef_weight.sort(key=lambda x: -x[1])\n",
    "for word in coef_weight[:50]:\n",
    "    print(dictionary[word[0]])"
   ]
  },
  {
   "cell_type": "code",
   "execution_count": null,
   "metadata": {
    "collapsed": false
   },
   "outputs": [],
   "source": [
    "def classify(text):\n",
    "    tokens = [stemmer.stem(token) for token in tokenizer.tokenize(text.lower())]\n",
    "    bow = dictionary.doc2bow(tokens)\n",
    "    tfidf_vec = tfidf[bow]\n",
    "    data = []\n",
    "    col = []\n",
    "    row = []\n",
    "    for token in tfidf_vec:\n",
    "        data.append(token[1])\n",
    "        col.append(token[0])\n",
    "        row.append(0)\n",
    "    matrix_1 = csc_matrix((data, (row, col)), shape=(1, len(dictionary)))\n",
    "    return(classifier.predict_proba(matrix_1)[0][1])"
   ]
  },
  {
   "cell_type": "code",
   "execution_count": null,
   "metadata": {
    "collapsed": false
   },
   "outputs": [],
   "source": [
    "print(classify(\"обнимашки, всех люблю\"))"
   ]
  },
  {
   "cell_type": "code",
   "execution_count": null,
   "metadata": {
    "collapsed": false
   },
   "outputs": [],
   "source": [
    "print(classify(\"хочу умереть, ненавижу всех\"))"
   ]
  },
  {
   "cell_type": "markdown",
   "metadata": {},
   "source": [
    "# Problem 2\n",
    "Разбить выборку на train и test и померить качество\n",
    "\n",
    "азбить выборку на train и test и померить качество\n",
    "Воспользоваться методами sklearn.cross_validation.train_test_split для разбивки и roc_auc_score для измерения качества"
   ]
  },
  {
   "cell_type": "code",
   "execution_count": null,
   "metadata": {
    "collapsed": true
   },
   "outputs": [],
   "source": []
  },
  {
   "cell_type": "markdown",
   "metadata": {
    "collapsed": false
   },
   "source": [
    "# topic modeling"
   ]
  },
  {
   "cell_type": "markdown",
   "metadata": {
    "collapsed": false
   },
   "source": [
    "Попробуем выяснить какие темы волнуют пользователей твиттера. Для этого воспользуемся моделью latent dirichlet allocation"
   ]
  },
  {
   "cell_type": "code",
   "execution_count": null,
   "metadata": {
    "collapsed": false
   },
   "outputs": [],
   "source": [
    "try:\n",
    "    lda = pickle.load(open(\"lda_model.pickle\", 'rb'))\n",
    "except:\n",
    "    lda = gensim.models.ldamulticore.LdaMulticore(corpus=corpora_tfidf, id2word=dictionary)\n",
    "    pickle.dump(lda, open(\"lda_model.pickle\", 'wb'))\n",
    "\n",
    "for topic in lda.print_topics(5):\n",
    "    print(topic)"
   ]
  },
  {
   "cell_type": "code",
   "execution_count": null,
   "metadata": {
    "collapsed": true
   },
   "outputs": [],
   "source": []
  }
 ],
 "metadata": {
  "kernelspec": {
   "display_name": "Python [default]",
   "language": "python",
   "name": "python3"
  },
  "language_info": {
   "codemirror_mode": {
    "name": "ipython",
    "version": 3
   },
   "file_extension": ".py",
   "mimetype": "text/x-python",
   "name": "python",
   "nbconvert_exporter": "python",
   "pygments_lexer": "ipython3",
   "version": "3.5.2"
  }
 },
 "nbformat": 4,
 "nbformat_minor": 0
}
